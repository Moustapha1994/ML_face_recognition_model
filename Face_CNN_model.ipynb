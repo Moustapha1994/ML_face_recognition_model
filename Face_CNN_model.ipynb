{
 "cells": [
  {
   "cell_type": "markdown",
   "metadata": {},
   "source": [
    "# Модель распознавания лиц"
   ]
  },
  {
   "cell_type": "markdown",
   "metadata": {},
   "source": [
    "\n",
    "В этой работе мы пытаемся внедрить модель распознавания лиц, используя свернутые нейронные сети"
   ]
  },
  {
   "cell_type": "markdown",
   "metadata": {},
   "source": [
    "# Импорт библиотек"
   ]
  },
  {
   "cell_type": "code",
   "execution_count": 67,
   "metadata": {},
   "outputs": [],
   "source": [
    "import matplotlib.pyplot as plt\n",
    "import tensorflow as tf\n",
    "from tensorflow import keras\n",
    "from sklearn.model_selection import train_test_split\n",
    "import numpy as np\n",
    "import matplotlib.pyplot as plt"
   ]
  },
  {
   "cell_type": "markdown",
   "metadata": {},
   "source": [
    "Данные содержат обрезанные изображения лица 16 человек, распределенные по обучению и тестированию. Мы будем тренировать модель CNN, используя изображения из папки Training, а затем протестировать модель, используя невидимые изображения из тестовой папки, чтобы проверить, способна ли модель распознавать номер лица невидимых изображений или нет.\n",
    "\n"
   ]
  },
  {
   "cell_type": "code",
   "execution_count": 68,
   "metadata": {},
   "outputs": [
    {
     "name": "stdout",
     "output_type": "stream",
     "text": [
      "Found 244 images belonging to 16 classes.\n",
      "Found 244 images belonging to 16 classes.\n"
     ]
    },
    {
     "data": {
      "text/plain": [
       "{'face1': 0,\n",
       " 'face10': 1,\n",
       " 'face11': 2,\n",
       " 'face12': 3,\n",
       " 'face13': 4,\n",
       " 'face14': 5,\n",
       " 'face15': 6,\n",
       " 'face16': 7,\n",
       " 'face2': 8,\n",
       " 'face3': 9,\n",
       " 'face4': 10,\n",
       " 'face5': 11,\n",
       " 'face6': 12,\n",
       " 'face7': 13,\n",
       " 'face8': 14,\n",
       " 'face9': 15}"
      ]
     },
     "execution_count": 68,
     "metadata": {},
     "output_type": "execute_result"
    }
   ],
   "source": [
    "# Модель глубокого обучения CNN для распознавания лица\n",
    "'''этот скрипт использует базу данных изображений и создает на ней модель CNN для тестирования\n",
    "   правильно ли распознается данное изображение или нет'''\n",
    " \n",
    "'''########Предварительная обработка изображений для обучения и тестирования данных#######'''\n",
    " \n",
    "# Указать папку, в которой присутствуют изображения\n",
    "TrainingImagePath='./Face_Images/Face Images/Final Training Images'\n",
    "TestImagePath='Face_Images/Face Images/Final Testing Images/face13/2face13.jpg'\n",
    "from keras.preprocessing.image import ImageDataGenerator\n",
    "\n",
    "# Установка преобразований предварительной обработки на raw-изображениях данных обучения\n",
    "# Эти гиперпараметры позволяют создавать слегка скрученные версии\n",
    "# оригинального изображения, что приводит к лучшей модели, потому что он учится\n",
    "# о хорошем и плохом смешении изображений\n",
    "train_datagen = ImageDataGenerator(\n",
    "        shear_range=0.1,\n",
    "        zoom_range=0.1,\n",
    "        horizontal_flip=True)\n",
    " \n",
    "# Определение преобразований предварительной обработки в raw-изображениях тестовых данных\n",
    "# Преобразование не выполняется на тестовых изображениях\n",
    "test_datagen = ImageDataGenerator()\n",
    " \n",
    "# Генерировать данные тренировки\n",
    "training_set = train_datagen.flow_from_directory(\n",
    "        TrainingImagePath,\n",
    "        target_size=(64, 64),\n",
    "        batch_size=32,\n",
    "        class_mode='categorical')\n",
    " \n",
    "    \n",
    "#Генерировать тестовые данные\n",
    "test_set = test_datagen.flow_from_directory(\n",
    "        TrainingImagePath,\n",
    "        target_size=(64, 64),\n",
    "        batch_size=32,\n",
    "        class_mode='categorical')\n",
    " \n",
    "# Отображение тегов классов для каждой грани\n",
    "test_set.class_indices"
   ]
  },
  {
   "cell_type": "markdown",
   "metadata": {},
   "source": [
    "# Création d'un mappage pour les noms d'index et de visage"
   ]
  },
  {
   "cell_type": "markdown",
   "metadata": {},
   "source": [
    "Словарь class_index выше имеет имена лиц в качестве ключей и числовое отображение в качестве значений. Нам нужно поменять его, потому что модель классификатора вернет ответ в виде числового сопоставления, и нам нужно извлечь из него имя лица.\n",
    "\n",
    "Кроме того, поскольку это проблема классификации с несколькими классами, мы подсчитываем количество уникальных граней, поскольку это будет использоваться как количество выходных нейронов в выходном слое полностью связанного классификатора ANN."
   ]
  },
  {
   "cell_type": "code",
   "execution_count": 69,
   "metadata": {},
   "outputs": [
    {
     "name": "stdout",
     "output_type": "stream",
     "text": [
      "Mapping of Face and its ID {0: 'face1', 1: 'face10', 2: 'face11', 3: 'face12', 4: 'face13', 5: 'face14', 6: 'face15', 7: 'face16', 8: 'face2', 9: 'face3', 10: 'face4', 11: 'face5', 12: 'face6', 13: 'face7', 14: 'face8', 15: 'face9'}\n",
      "\n",
      " The Number of output neurons:  16\n"
     ]
    }
   ],
   "source": [
    "'''########### Создание таблицы поиска для всех граней ############'''\n",
    "# class_indices имеют числовой тег для каждой грани\n",
    "TrainClasses=training_set.class_indices\n",
    " \n",
    "# Сохранение лица и числового тега для дальнейшего использования\n",
    "ResultMap={}\n",
    "for faceValue,faceName in zip(TrainClasses.values(),TrainClasses.keys()):\n",
    "    ResultMap[faceValue]=faceName\n",
    "\n",
    "    \n",
    "#Сохранение карты лица для дальнейшего использования\n",
    "import pickle\n",
    "with open(\"ResultsMap.pkl\", 'wb') as fileWriteStream:\n",
    "    pickle.dump(ResultMap, fileWriteStream)\n",
    "\n",
    "    \n",
    "# Модель даст ответ в виде числового тега\n",
    "# Это сопоставление поможет получить для него соответствующее имя лица\n",
    "print(\"Mapping of Face and its ID\",ResultMap)\n",
    " \n",
    "# Число нейронов для выходного слоя равно числу граней\n",
    "OutputNeurons=len(ResultMap)\n",
    "print('\\n The Number of output neurons: ', OutputNeurons)"
   ]
  },
  {
   "cell_type": "markdown",
   "metadata": {},
   "source": [
    "# Создание модели распознавания лиц CNN"
   ]
  },
  {
   "cell_type": "markdown",
   "metadata": {},
   "source": [
    "В приведенном ниже фрагменте кода я создал шаблон CNN с\n",
    "\n",
    "2 спрятанных слоя свертки\n",
    "\n",
    "2 скрытых слоев pooling максимум\n",
    "\n",
    "1 слой сведения\n",
    "\n",
    "1 слой скрытой Энн\n",
    "\n",
    "1 выходной слой с 16 нейронами (по одному для каждой грани)\n",
    "\n",
    "Мы можем увеличить или уменьшить свертку, максимальное объединение, скрытые слои ANN и количество нейронов в них.\n",
    "\n",
    "\n",
    "Просто имейте в виду, что чем больше слоев / нейронов мы добавляем, тем медленнее модель.\n",
    "\n",
    "\n",
    "Кроме того, когда у нас есть большое количество изображений, порядка 50K и выше, процессор нашего ноутбука может быть неэффективным при изучении этих многочисленных изображений. Таким образом, это может заблокировать нашу работу.\n",
    "\n",
    "Поскольку данные, которые мы использовали для демонстрации, невелики и содержат только 244 изображения для обучения, мы можем легко запустить его на нашем ноутбуке \n",
    "\n",
    "\n",
    "Помимо выбора наилучшего количества слоев и количества нейронов в нем, для каждого слоя также необходимо установить некоторые гипер-параметры.\n",
    "\n",
    "\n",
    "Давайте немного объясним некоторые из важных гиперпараметров, которые мы будем использовать здесь\n",
    "\n",
    "\n",
    "Filters = 32: это число указывает количество фильтров, которые мы используем для просмотра пикселей изображения во время этапа свертки. Некоторые фильтры могут захватывать острые края, некоторые фильтры могут захватывать цветовые вариации, некоторые фильтры могут захватывать контуры и т. д. В конечном счете, мы получаем важную информацию из изображений. В первом слое обычно используется количество фильтров = 32, а затем увеличивает мощность на 2. Как и в следующем слое, это 64, в следующем слое это 128 и так далее.\n",
    "\n",
    "kernel_size = (5,5): это указывает на размер скользящего окна во время свертки, в этом примере мы используем скользящее окно размером 5X5 пикселей.\n",
    "\n",
    "strides = (1, 1): Как быстро или медленно должно двигаться скользящее окно во время свертки. Мы используем самую низкую настройку 1X1 пикселей. Это означает перетаскивание окна свертки 5X5 (kernal_size) на 1 пиксель по оси x и 1 пиксель по оси У До тех пор, пока не будет прокручено все изображение.\n",
    "\n",
    "input_shape = (64,64,3): изображения-это не что иное, как матрица цветового кода RGB. во время нашей предварительной обработки данных мы сжали изображения до 64X64, поэтому ожидаемая форма-64X64X3. Означает 3 массива 64X64, по одному для цветов RGB каждый.\n",
    "\n",
    "kernel_initializer = 'uniform' : когда нейроны начинают вычисление, алгоритм должен определить значение каждого веса. Этот параметр указывает это. Вы можете выбрать различные значения, такие как» нормальный «или»glorot_uniform\".\n",
    "\n",
    "активация = 'relu': это указывает функцию активации для вычислений внутри каждого нейрона. Вы можете выбрать такие значения, как» перечитано«,» tanh«,» sigmoid \" и т. д.\n",
    "\n",
    "optimizer = 'adam': этот параметр позволяет найти оптимальные значения каждого веса в нейронной сети. 'adam' - один из самых полезных оптимизаторов, другой- 'rmsprop'\n",
    "\n",
    "batch_size = 10: это указывает, сколько строк будет передаваться в сеть за один раз, после чего начнется вычисление SSE, и нейронная сеть начнет корректировать свои веса на основе ошибок.\n",
    "\n",
    "Когда все строки передаются в партиях по 10 строк каждый, как указано в этом параметре, мы будем называть его epoch. Или полный цикл данных. Это также известно как мини-пакетный градиентный спуск. Небольшое значение batch_size заставит LSTM смотреть на данные медленно, например, 2 строки за раз или 4 строки за раз, что может привести к переназначению, по сравнению с высоким значением, таким как 20 или 50 строк за раз, что приведет к тому, что LSTM быстро просматривает данные, что может привести к подстройке. Поэтому соответствующее значение должно быть выбрано с помощью настройки гиперпараметров.\n",
    "Epochs = 10 : одна и та же операция регулировки веса продолжается 10 раз, как указано в этом параметре. Проще говоря, LSTM рассматривает полные данные тренировки 10 раз и корректирует свои веса."
   ]
  },
  {
   "cell_type": "code",
   "execution_count": 70,
   "metadata": {},
   "outputs": [
    {
     "name": "stdout",
     "output_type": "stream",
     "text": [
      "Epoch 1/25\n",
      "8/8 [==============================] - ETA: 0s - loss: 91.5938 - accuracy: 0.0493WARNING:tensorflow:Your input ran out of data; interrupting training. Make sure that your dataset or generator can generate at least `steps_per_epoch * epochs` batches (in this case, 10 batches). You may need to use the repeat() function when building your dataset.\n",
      "8/8 [==============================] - 5s 576ms/step - loss: 88.5237 - accuracy: 0.0506 - val_loss: 3.9173 - val_accuracy: 0.0451\n",
      "Epoch 2/25\n",
      "8/8 [==============================] - 3s 374ms/step - loss: 3.1218 - accuracy: 0.1013\n",
      "Epoch 3/25\n",
      "8/8 [==============================] - 3s 368ms/step - loss: 2.1731 - accuracy: 0.3401\n",
      "Epoch 4/25\n",
      "8/8 [==============================] - 3s 370ms/step - loss: 1.4373 - accuracy: 0.5365\n",
      "Epoch 5/25\n",
      "8/8 [==============================] - 3s 358ms/step - loss: 0.5812 - accuracy: 0.8437\n",
      "Epoch 6/25\n",
      "8/8 [==============================] - 3s 384ms/step - loss: 0.3726 - accuracy: 0.9187\n",
      "Epoch 7/25\n",
      "8/8 [==============================] - 3s 381ms/step - loss: 0.2812 - accuracy: 0.9135\n",
      "Epoch 8/25\n",
      "8/8 [==============================] - 3s 372ms/step - loss: 0.2737 - accuracy: 0.9007\n",
      "Epoch 9/25\n",
      "8/8 [==============================] - 3s 358ms/step - loss: 0.1601 - accuracy: 0.9485\n",
      "Epoch 10/25\n",
      "8/8 [==============================] - 3s 356ms/step - loss: 0.1062 - accuracy: 0.9668\n",
      "Epoch 11/25\n",
      "8/8 [==============================] - 3s 357ms/step - loss: 0.0823 - accuracy: 0.9686\n",
      "Epoch 12/25\n",
      "8/8 [==============================] - 3s 355ms/step - loss: 0.0718 - accuracy: 0.9913\n",
      "Epoch 13/25\n",
      "8/8 [==============================] - 3s 354ms/step - loss: 0.0474 - accuracy: 0.9926\n",
      "Epoch 14/25\n",
      "8/8 [==============================] - 3s 359ms/step - loss: 0.0323 - accuracy: 0.9949\n",
      "Epoch 15/25\n",
      "8/8 [==============================] - 3s 365ms/step - loss: 0.0364 - accuracy: 0.9890\n",
      "Epoch 16/25\n",
      "8/8 [==============================] - 3s 358ms/step - loss: 0.0172 - accuracy: 1.0000\n",
      "Epoch 17/25\n",
      "8/8 [==============================] - 3s 362ms/step - loss: 0.0707 - accuracy: 0.9697\n",
      "Epoch 18/25\n",
      "8/8 [==============================] - 3s 358ms/step - loss: 0.0218 - accuracy: 0.9971\n",
      "Epoch 19/25\n",
      "8/8 [==============================] - 3s 357ms/step - loss: 0.0159 - accuracy: 0.9980\n",
      "Epoch 20/25\n",
      "8/8 [==============================] - 3s 358ms/step - loss: 0.0114 - accuracy: 0.9972\n",
      "Epoch 21/25\n",
      "8/8 [==============================] - 3s 371ms/step - loss: 0.0692 - accuracy: 0.9770\n",
      "Epoch 22/25\n",
      "8/8 [==============================] - 3s 355ms/step - loss: 0.0399 - accuracy: 0.9928\n",
      "Epoch 23/25\n",
      "8/8 [==============================] - 3s 400ms/step - loss: 0.0027 - accuracy: 1.0000\n",
      "Epoch 24/25\n",
      "8/8 [==============================] - 3s 357ms/step - loss: 0.0105 - accuracy: 0.9933\n",
      "Epoch 25/25\n",
      "8/8 [==============================] - 3s 373ms/step - loss: 0.0358 - accuracy: 0.9768\n",
      "Total Time Taken:  1 Minutes\n"
     ]
    }
   ],
   "source": [
    "'''######################## Создание du модели CNN deep learning #######################'''\n",
    "from keras.models import Sequential\n",
    "from keras.layers import Convolution2D\n",
    "from keras.layers import MaxPool2D\n",
    "from keras.layers import Flatten\n",
    "from keras.layers import Dense\n",
    "from sklearn.metrics import accuracy_score\n",
    " \n",
    "'''Инициализация сверточной нейронной сети'''\n",
    "classifier= Sequential()\n",
    " \n",
    "''' Шаг--1 Свертки\n",
    "# Добавлен первый слой CNN\n",
    "# мы используем формат (64,64,3), потому что мы используем бэкэнд TensorFlow\n",
    "# Это означает 3 матрицы размера (64X64) пикселей, представляющих красные, зеленые и синие компоненты пикселей\n",
    "'''\n",
    "classifier.add(Convolution2D(32, kernel_size=(5, 5), strides=(1, 1), input_shape=(64,64,3), activation='relu'))\n",
    " \n",
    "'''# Шаг--2 MAX Pooling'''\n",
    "classifier.add(MaxPool2D(pool_size=(2,2)))\n",
    " \n",
    "'''# Дополнительный слой свертки для лучшей точности '''\n",
    "classifier.add(Convolution2D(64, kernel_size=(5, 5), strides=(1, 1), activation='relu'))\n",
    " \n",
    "classifier.add(MaxPool2D(pool_size=(2,2)))\n",
    "\n",
    "'''# Шаг-3 сплющивание'''\n",
    "classifier.add(Flatten())\n",
    " \n",
    "'''# Шаг-4 Полностью Подключенная Нейронная Сеть'''\n",
    "classifier.add(Dense(64, activation='relu'))\n",
    " \n",
    "classifier.add(Dense(OutputNeurons, activation='softmax'))\n",
    " \n",
    "'''# Компиляция CNN'''\n",
    "#classifier.compiler(perte='binary_crossentropy', optimiseur='adam', métriques=['précision'])\n",
    "classifier.compile(loss='categorical_crossentropy', optimizer = 'adam', metrics=[\"accuracy\"])\n",
    " \n",
    "###########################################################\n",
    "import time\n",
    "# Измерение времени, затраченного моделью на обучение\n",
    "StartTime=time.time()\n",
    " \n",
    "# Начало обучения модели\n",
    "history = classifier.fit_generator(\n",
    "                    training_set,                    \n",
    "                    epochs=25,\n",
    "                    validation_data=test_set,\n",
    "                    validation_steps=10)\n",
    "\n",
    "\n",
    "EndTime=time.time()\n",
    "print(\"Total Time Taken: \", round((EndTime-StartTime)/60), 'Minutes')"
   ]
  },
  {
   "cell_type": "markdown",
   "metadata": {},
   "source": [
    "# Тестирование классификатора CNN на невидимых изображениях\n",
    "Используя одно из изображений из папки тестовых данных, мы можем проверить, способна ли модель распознавать лицо.\n",
    "\n",
    "TestImagePath позволяет выбрать любое изображение, которое модель не знает, и она сделает свое предсказание. Как мы попробуем следующий код"
   ]
  },
  {
   "cell_type": "code",
   "execution_count": 71,
   "metadata": {},
   "outputs": [
    {
     "name": "stdout",
     "output_type": "stream",
     "text": [
      "WARNING:tensorflow:8 out of the last 8 calls to <function Model.make_predict_function.<locals>.predict_function at 0x7f8a0cf1dca0> triggered tf.function retracing. Tracing is expensive and the excessive number of tracings could be due to (1) creating @tf.function repeatedly in a loop, (2) passing tensors with different shapes, (3) passing Python objects instead of tensors. For (1), please define your @tf.function outside of the loop. For (2), @tf.function has experimental_relax_shapes=True option that relaxes argument shapes that can avoid unnecessary retracing. For (3), please refer to https://www.tensorflow.org/guide/function#controlling_retracing and https://www.tensorflow.org/api_docs/python/tf/function for  more details.\n",
      "########################################\n",
      "Prediction is:  face2\n"
     ]
    }
   ],
   "source": [
    "\n",
    "''' Создание одиночных прогнозов '''\n",
    "import numpy as np\n",
    "from keras.preprocessing import image\n",
    " \n",
    "TestImagePath='Face_Images/Face Images/Final Testing Images/face2/1face2.jpg'\n",
    "test_image=image.load_img(TestImagePath,target_size=(64, 64))\n",
    "test_image=image.img_to_array(test_image)\n",
    " \n",
    "test_image=np.expand_dims(test_image,axis=0)\n",
    " \n",
    "result=classifier.predict(test_image,verbose=0)\n",
    "#print(training_set.class_indices)\n",
    " \n",
    "print('####'*10)\n",
    "print('Prediction is: ',ResultMap[np.argmax(result)])"
   ]
  },
  {
   "cell_type": "code",
   "execution_count": 72,
   "metadata": {},
   "outputs": [
    {
     "data": {
      "text/plain": [
       "<matplotlib.legend.Legend at 0x7f8a0d0ad5e0>"
      ]
     },
     "execution_count": 72,
     "metadata": {},
     "output_type": "execute_result"
    },
    {
     "data": {
      "image/png": "[encoded data removed]",
      "text/plain": [
       "<Figure size 432x288 with 1 Axes>"
      ]
     },
     "metadata": {
      "needs_background": "light"
     },
     "output_type": "display_data"
    }
   ],
   "source": [
    "plt.subplot(211)\n",
    "plt.plot(history.history['accuracy'])\n",
    "plt.plot(history.history['val_accuracy'])\n",
    "plt.title('Model Accuracy')\n",
    "plt.ylabel('Accuracy')\n",
    "plt.xlabel('Epoch')\n",
    "plt.legend(['Training', 'Validation'], loc='lower right')\n",
    "\n"
   ]
  },
  {
   "cell_type": "code",
   "execution_count": 73,
   "metadata": {},
   "outputs": [
    {
     "data": {
      "image/png": "[encoded data removed]",
      "text/plain": [
       "<Figure size 432x288 with 1 Axes>"
      ]
     },
     "metadata": {
      "needs_background": "light"
     },
     "output_type": "display_data"
    }
   ],
   "source": [
    "plt.subplot(212)\n",
    "plt.plot(history.history['loss'])\n",
    "plt.plot(history.history['val_loss'])\n",
    "plt.title('Model Loss')\n",
    "plt.ylabel('Loss')\n",
    "plt.xlabel('Epoch')\n",
    "plt.legend(['Training', 'Validation'], loc='upper right')\n",
    "\n",
    "plt.tight_layout()\n",
    "\n"
   ]
  }
 ],
 "metadata": {
  "kernelspec": {
   "display_name": "Python 3",
   "language": "python",
   "name": "python3"
  },
  "language_info": {
   "codemirror_mode": {
    "name": "ipython",
    "version": 3
   },
   "file_extension": ".py",
   "mimetype": "text/x-python",
   "name": "python",
   "nbconvert_exporter": "python",
   "pygments_lexer": "ipython3",
   "version": "3.8.6"
  }
 },
 "nbformat": 4,
 "nbformat_minor": 4
}
